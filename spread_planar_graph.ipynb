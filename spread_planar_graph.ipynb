{
 "cells": [
  {
   "cell_type": "code",
   "execution_count": 1,
   "id": "784c7c9a",
   "metadata": {},
   "outputs": [
    {
     "data": {
      "text/html": [
       "<html>\\(\\displaystyle t^{3} - 2 \\, n t - 4 \\, l - 4\\)</html>"
      ],
      "text/latex": [
       "$\\displaystyle t^{3} - 2 \\, n t - 4 \\, l - 4$"
      ],
      "text/plain": [
       "t^3 - 2*n*t - 4*l - 4"
      ]
     },
     "metadata": {},
     "output_type": "display_data"
    },
    {
     "data": {
      "text/html": [
       "<html>\\(\\displaystyle x\\)</html>"
      ],
      "text/latex": [
       "$\\displaystyle x$"
      ],
      "text/plain": [
       "x"
      ]
     },
     "metadata": {},
     "output_type": "display_data"
    },
    {
     "data": {
      "text/html": [
       "<html>\\(\\displaystyle x\\)</html>"
      ],
      "text/latex": [
       "$\\displaystyle x$"
      ],
      "text/plain": [
       "x"
      ]
     },
     "metadata": {},
     "output_type": "display_data"
    }
   ],
   "source": [
    "#Authored by Linyuan Lu in 2022\n",
    "#On the maximum spread of planar graphs\n",
    "#Here n='n-2' and l='l-2' for simplicity.\n",
    "#t=lambda\n",
    "# x = 'l'/'n' = (l-2)/(n-2)\n",
    "reset()\n",
    "var('F,t, l, n, x, y,D')\n",
    "assume(x>0)\n",
    "assume(n>0)\n",
    "F = t^3 - 2*n*t  - 4*(l+1)\n",
    "show(F)\n",
    "F1 = F.substitute(l=x*n)\n",
    "\n",
    "#Denominator D can be changed.\n",
    "\n",
    "D = 2*n\n",
    "\n",
    "#compute c_1 in lambda_1\n",
    "F2 = F1.substitute(t=sqrt(D)+y)\n",
    "#Main term in the expansion\n",
    "F3=limit(F2/n, n= Infinity)\n",
    "sol1=solve(F3,y)\n",
    "c1=sol1[0].rhs()\n",
    "show(c1)\n",
    "\n",
    "#compute c_1 in lambda_n\n",
    "F4 = F1.substitute(t=-sqrt(D)+y)\n",
    "#Main term in the expansion\n",
    "F5=limit(F4/n, n= Infinity)\n",
    "sol2=solve(F5,y)\n",
    "d1=sol2[0].rhs()\n",
    "show(d1)"
   ]
  },
  {
   "cell_type": "code",
   "execution_count": 2,
   "id": "16bc6696",
   "metadata": {},
   "outputs": [
    {
     "data": {
      "text/html": [
       "<html>\\(\\displaystyle t^{4} - 2 \\, n t^{2} - 4 \\, {\\left(l + 1\\right)} t - 8 \\, l\\)</html>"
      ],
      "text/latex": [
       "$\\displaystyle t^{4} - 2 \\, n t^{2} - 4 \\, {\\left(l + 1\\right)} t - 8 \\, l$"
      ],
      "text/plain": [
       "t^4 - 2*n*t^2 - 4*(l + 1)*t - 8*l"
      ]
     },
     "metadata": {},
     "output_type": "display_data"
    },
    {
     "data": {
      "text/html": [
       "<html>\\(\\displaystyle -\\frac{3}{2} \\, x^{2} + 2 \\, x\\)</html>"
      ],
      "text/latex": [
       "$\\displaystyle -\\frac{3}{2} \\, x^{2} + 2 \\, x$"
      ],
      "text/plain": [
       "-3/2*x^2 + 2*x"
      ]
     },
     "metadata": {},
     "output_type": "display_data"
    },
    {
     "data": {
      "text/html": [
       "<html>\\(\\displaystyle -\\frac{3}{2} \\, x^{2} + 2 \\, x\\)</html>"
      ],
      "text/latex": [
       "$\\displaystyle -\\frac{3}{2} \\, x^{2} + 2 \\, x$"
      ],
      "text/plain": [
       "-3/2*x^2 + 2*x"
      ]
     },
     "metadata": {},
     "output_type": "display_data"
    }
   ],
   "source": [
    "var('F,t, l, n, x, y')\n",
    "F = t^4 -2*n*t^2  - 4*(l+1)*t - 8*l\n",
    "show(F)\n",
    "F1 = F.substitute(l=x*n)\n",
    "\n",
    "#compute c_2 in lambda_1\n",
    "F2 = F1.substitute(t=sqrt(D)+c1+y/sqrt(D))\n",
    "#Main term in the expansion\n",
    "F3=limit(F2/n, n= Infinity)\n",
    "\n",
    "sol1=solve(F3,y)\n",
    "c2=sol1[0].rhs()\n",
    "show(c2)\n",
    "\n",
    "\n",
    "#compute c_2 in lambda_n\n",
    "F4 = F1.substitute(t=-sqrt(D)+d1-y/sqrt(D))\n",
    "#Main term in the expansion\n",
    "F5=limit(F4/n, n= Infinity)\n",
    "sol2=solve(F5,y)\n",
    "\n",
    "d2=sol2[0].rhs()\n",
    "show(d2)\n",
    "\n"
   ]
  },
  {
   "cell_type": "code",
   "execution_count": 3,
   "id": "d34495ea",
   "metadata": {},
   "outputs": [
    {
     "data": {
      "text/html": [
       "<html>\\(\\displaystyle t^{5} - 2 \\, n t^{3} - 4 \\, {\\left(l + 1\\right)} t^{2} - 4 \\, {\\left(2 \\, l + 1\\right)} t - 16 \\, l\\)</html>"
      ],
      "text/latex": [
       "$\\displaystyle t^{5} - 2 \\, n t^{3} - 4 \\, {\\left(l + 1\\right)} t^{2} - 4 \\, {\\left(2 \\, l + 1\\right)} t - 16 \\, l$"
      ],
      "text/plain": [
       "t^5 - 2*n*t^3 - 4*(l + 1)*t^2 - 4*(2*l + 1)*t - 16*l"
      ]
     },
     "metadata": {},
     "output_type": "display_data"
    },
    {
     "data": {
      "text/html": [
       "<html>\\(\\displaystyle 4 \\, x^{3} - 8 \\, x^{2} + 4 \\, x + 2\\)</html>"
      ],
      "text/latex": [
       "$\\displaystyle 4 \\, x^{3} - 8 \\, x^{2} + 4 \\, x + 2$"
      ],
      "text/plain": [
       "4*x^3 - 8*x^2 + 4*x + 2"
      ]
     },
     "metadata": {},
     "output_type": "display_data"
    },
    {
     "data": {
      "text/html": [
       "<html>\\(\\displaystyle 4 \\, x^{3} - 8 \\, x^{2} + 4 \\, x + 2\\)</html>"
      ],
      "text/latex": [
       "$\\displaystyle 4 \\, x^{3} - 8 \\, x^{2} + 4 \\, x + 2$"
      ],
      "text/plain": [
       "4*x^3 - 8*x^2 + 4*x + 2"
      ]
     },
     "metadata": {},
     "output_type": "display_data"
    }
   ],
   "source": [
    "var('F,t, l, n, x, y')\n",
    "F = t^5 -2*n*t^3  - 4*(l+1)*t^2- 2*(4*l+2)*t -16*l\n",
    "show(F)\n",
    "F1 = F.substitute(l=x*n)\n",
    "\n",
    "#compute c_3 in lambda_1\n",
    "F2 = F1.substitute(t=sqrt(D) + c1 + c2/sqrt(D) + y/D)\n",
    "#Main term in the expansion\n",
    "F3 = limit(F2/n, n= Infinity)\n",
    "sol1=solve(F3,y)\n",
    "c3=sol1[0].rhs()\n",
    "show(c3)\n",
    "\n",
    "#compute c_3 in lambda_n\n",
    "F4 = F1.substitute(t=-sqrt(D)+ c1 -c2/sqrt(D) +y/D)\n",
    "#Main term in the expansion\n",
    "F5=limit(F4/n, n= Infinity)\n",
    "sol2=solve(F5,y)\n",
    "d3=sol1[0].rhs()\n",
    "show(d3)"
   ]
  },
  {
   "cell_type": "code",
   "execution_count": 4,
   "id": "32c3ad65",
   "metadata": {},
   "outputs": [
    {
     "data": {
      "text/html": [
       "<html>\\(\\displaystyle t^{6} - 2 \\, n t^{4} - 4 \\, {\\left(l + 1\\right)} t^{3} - 4 \\, {\\left(2 \\, l + 1\\right)} t^{2} - 16 \\, l t - 32 \\, l\\)</html>"
      ],
      "text/latex": [
       "$\\displaystyle t^{6} - 2 \\, n t^{4} - 4 \\, {\\left(l + 1\\right)} t^{3} - 4 \\, {\\left(2 \\, l + 1\\right)} t^{2} - 16 \\, l t - 32 \\, l$"
      ],
      "text/plain": [
       "t^6 - 2*n*t^4 - 4*(l + 1)*t^3 - 4*(2*l + 1)*t^2 - 16*l*t - 32*l"
      ]
     },
     "metadata": {},
     "output_type": "display_data"
    },
    {
     "data": {
      "text/html": [
       "<html>\\(\\displaystyle -\\frac{105}{8} \\, x^{4} + 35 \\, x^{3} - 30 \\, x^{2} + 2 \\, x + 2\\)</html>"
      ],
      "text/latex": [
       "$\\displaystyle -\\frac{105}{8} \\, x^{4} + 35 \\, x^{3} - 30 \\, x^{2} + 2 \\, x + 2$"
      ],
      "text/plain": [
       "-105/8*x^4 + 35*x^3 - 30*x^2 + 2*x + 2"
      ]
     },
     "metadata": {},
     "output_type": "display_data"
    },
    {
     "data": {
      "text/html": [
       "<html>\\(\\displaystyle -\\frac{105}{8} \\, x^{4} + 35 \\, x^{3} - 30 \\, x^{2} + 2 \\, x + 2\\)</html>"
      ],
      "text/latex": [
       "$\\displaystyle -\\frac{105}{8} \\, x^{4} + 35 \\, x^{3} - 30 \\, x^{2} + 2 \\, x + 2$"
      ],
      "text/plain": [
       "-105/8*x^4 + 35*x^3 - 30*x^2 + 2*x + 2"
      ]
     },
     "metadata": {},
     "output_type": "display_data"
    }
   ],
   "source": [
    "F = t^6 - 2* n*t^4  - 4*(l+1)*t^3- 2*(4*l+2)*t^2 -2*(8*l)*t -32*l\n",
    "show(F)\n",
    "F1 = F.substitute(l=x*n)\n",
    "\n",
    "#compute c_4 in lambda_1\n",
    "F2 = F1.substitute(t=sqrt(D) + c1 + c2/sqrt(D) + c3/D +y/D^(3/2))\n",
    "#Main term in the expansion\n",
    "F3=limit(F2/n, n= Infinity)\n",
    "sol1=solve(F3,y)\n",
    "c4=sol1[0].rhs()\n",
    "show(c4)\n",
    "\n",
    "#compute c_4 in lambda_n\n",
    "F4 = F1.substitute(t=-sqrt(D) + c1 - c2/sqrt(D) + c3/D -y/D^(3/2))\n",
    "#Main term in the expansion\n",
    "F5=limit(F4/n, n= Infinity)\n",
    "sol2=solve(F5,y)\n",
    "d4=sol1[0].rhs()\n",
    "show(d4)\n"
   ]
  },
  {
   "cell_type": "code",
   "execution_count": 5,
   "id": "2744e6f3",
   "metadata": {},
   "outputs": [
    {
     "data": {
      "text/html": [
       "<html>\\(\\displaystyle t^{7} - 2 \\, n t^{5} - 4 \\, {\\left(l + 1\\right)} t^{4} - 4 \\, {\\left(2 \\, l + 1\\right)} t^{3} - 16 \\, l t^{2} - 4 \\, {\\left(8 \\, l - 3\\right)} t - 64 \\, l\\)</html>"
      ],
      "text/latex": [
       "$\\displaystyle t^{7} - 2 \\, n t^{5} - 4 \\, {\\left(l + 1\\right)} t^{4} - 4 \\, {\\left(2 \\, l + 1\\right)} t^{3} - 16 \\, l t^{2} - 4 \\, {\\left(8 \\, l - 3\\right)} t - 64 \\, l$"
      ],
      "text/plain": [
       "t^7 - 2*n*t^5 - 4*(l + 1)*t^4 - 4*(2*l + 1)*t^3 - 16*l*t^2 - 4*(8*l - 3)*t - 64*l"
      ]
     },
     "metadata": {},
     "output_type": "display_data"
    },
    {
     "data": {
      "text/html": [
       "<html>\\(\\displaystyle 48 \\, x^{5} - 160 \\, x^{4} + 192 \\, x^{3} - 72 \\, x^{2} - 8 \\, x\\)</html>"
      ],
      "text/latex": [
       "$\\displaystyle 48 \\, x^{5} - 160 \\, x^{4} + 192 \\, x^{3} - 72 \\, x^{2} - 8 \\, x$"
      ],
      "text/plain": [
       "48*x^5 - 160*x^4 + 192*x^3 - 72*x^2 - 8*x"
      ]
     },
     "metadata": {},
     "output_type": "display_data"
    },
    {
     "data": {
      "text/html": [
       "<html>\\(\\displaystyle 48 \\, x^{5} - 160 \\, x^{4} + 192 \\, x^{3} - 72 \\, x^{2} - 8 \\, x\\)</html>"
      ],
      "text/latex": [
       "$\\displaystyle 48 \\, x^{5} - 160 \\, x^{4} + 192 \\, x^{3} - 72 \\, x^{2} - 8 \\, x$"
      ],
      "text/plain": [
       "48*x^5 - 160*x^4 + 192*x^3 - 72*x^2 - 8*x"
      ]
     },
     "metadata": {},
     "output_type": "display_data"
    }
   ],
   "source": [
    "F = t^7  -2*n*t^5  - 4*(l+1)*t^4- 2*(4*l+2)*t^3 -2*(8*l)*t^2 -2*(16*l-6)*t-64*l\n",
    "show(F)\n",
    "F1 = F.substitute(l=x*n)\n",
    "\n",
    "#compute c_5 in lambda_1\n",
    "F2 = F1.substitute(t = sqrt(D) + c1 + c2/sqrt(D) + c3/(D) + c4/D^(3/2) + y/D^2)\n",
    "#Main term in the expansion\n",
    "F3=limit(F2/n, n= Infinity)\n",
    "sol1=solve(F3,y)\n",
    "c5=sol1[0].rhs()\n",
    "show(c5)\n",
    "\n",
    "#compute c_5 in lambda_n\n",
    "F4 = F1.substitute(t = -sqrt(D) + c1 - c2/sqrt(D) + c3/(D) - c4/D^(3/2) +y/D^2)\n",
    "#Main term in the expansion\n",
    "F5=limit(F4/n, n=Infinity)\n",
    "sol2=solve(F5,y)\n",
    "d5=sol1[0].rhs()\n",
    "show(d5)"
   ]
  },
  {
   "cell_type": "code",
   "execution_count": null,
   "id": "b1436962",
   "metadata": {},
   "outputs": [],
   "source": [
    "F = t^8 - 2* n*t^6  - 4*(l+1)*t^5- 2*(4*l+2)*t^4 -2*(8*l)*t^3 -2*(16*l-6)*t^2-2*(32*l-24)*t -2*64*l\n",
    "show(F)\n",
    "F1 = F.substitute(l=x*n)\n",
    "\n",
    "#compute c_6 in lambda_1\n",
    "F2 = F1.substitute(t= sqrt(D) + c1 + c2/sqrt(D) + c3/D + c4/D^(3/2) +c5/D^2 + y/D^(5/2))\n",
    "#Main term in the expansion\n",
    "F3=limit(F2/n, n= Infinity)\n",
    "sol1=solve(F3,y)\n",
    "c6=sol1[0].rhs()\n",
    "show(c6)\n",
    "\n",
    "#compute c_6 in lambda_n\n",
    "F4 = F1.substitute(t=-sqrt(D) + c1 - c2/sqrt(D) + c3/D - c4/D^(3/2) +c5/D^2 - y/D^(5/2))\n",
    "#Main term in the expansion\n",
    "F5=limit(F4/n, n=Infinity)\n",
    "sol2=solve(F5,y)\n",
    "d6=sol1[0].rhs()\n",
    "show(d6)\n"
   ]
  },
  {
   "cell_type": "code",
   "execution_count": null,
   "id": "db2b2a69",
   "metadata": {},
   "outputs": [],
   "source": []
  }
 ],
 "metadata": {
  "kernelspec": {
   "display_name": "SageMath 9.6",
   "language": "sage",
   "name": "sagemath-9.6"
  },
  "language_info": {
   "codemirror_mode": {
    "name": "ipython",
    "version": 3
   },
   "file_extension": ".py",
   "mimetype": "text/x-python",
   "name": "python",
   "nbconvert_exporter": "python",
   "pygments_lexer": "ipython3",
   "version": "3.10.3"
  }
 },
 "nbformat": 4,
 "nbformat_minor": 5
}
