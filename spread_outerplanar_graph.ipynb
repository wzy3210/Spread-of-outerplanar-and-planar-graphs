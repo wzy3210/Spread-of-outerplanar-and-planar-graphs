{
 "cells": [
  {
   "cell_type": "code",
   "execution_count": 75,
   "metadata": {
    "collapsed": false
   },
   "outputs": [
    {
     "data": {
      "text/html": [
       "<html><script type=\"math/tex; mode=display\">\\newcommand{\\Bold}[1]{\\mathbf{#1}}t^{3} - n t - 2 \\, l</script></html>"
      ],
      "text/latex": [
       "$$\\newcommand{\\Bold}[1]{\\mathbf{#1}}t^{3} - n t - 2 \\, l$$"
      ],
      "text/plain": [
       "t^3 - n*t - 2*l"
      ]
     },
     "execution_count": 75,
     "metadata": {
     },
     "output_type": "execute_result"
    },
    {
     "data": {
      "text/html": [
       "<html><script type=\"math/tex; mode=display\">\\newcommand{\\Bold}[1]{\\mathbf{#1}}-2 \\, x + 2 \\, y</script></html>"
      ],
      "text/latex": [
       "$$\\newcommand{\\Bold}[1]{\\mathbf{#1}}-2 \\, x + 2 \\, y$$"
      ],
      "text/plain": [
       "-2*x + 2*y"
      ]
     },
     "execution_count": 75,
     "metadata": {
     },
     "output_type": "execute_result"
    },
    {
     "data": {
      "text/html": [
       "<html><script type=\"math/tex; mode=display\">\\newcommand{\\Bold}[1]{\\mathbf{#1}}\\left[y = x\\right]</script></html>"
      ],
      "text/latex": [
       "$$\\newcommand{\\Bold}[1]{\\mathbf{#1}}\\left[y = x\\right]$$"
      ],
      "text/plain": [
       "[y == x]"
      ]
     },
     "execution_count": 75,
     "metadata": {
     },
     "output_type": "execute_result"
    },
    {
     "data": {
      "text/html": [
       "<html><script type=\"math/tex; mode=display\">\\newcommand{\\Bold}[1]{\\mathbf{#1}}\\left[y = x\\right]</script></html>"
      ],
      "text/latex": [
       "$$\\newcommand{\\Bold}[1]{\\mathbf{#1}}\\left[y = x\\right]$$"
      ],
      "text/plain": [
       "[y == x]"
      ]
     },
     "execution_count": 75,
     "metadata": {
     },
     "output_type": "execute_result"
    },
    {
     "data": {
      "text/html": [
       "<html><script type=\"math/tex; mode=display\">\\newcommand{\\Bold}[1]{\\mathbf{#1}}x</script></html>"
      ],
      "text/latex": [
       "$$\\newcommand{\\Bold}[1]{\\mathbf{#1}}x$$"
      ],
      "text/plain": [
       "x"
      ]
     },
     "execution_count": 75,
     "metadata": {
     },
     "output_type": "execute_result"
    }
   ],
   "source": [
    "#Authored by Linyuan Lu (2022)\n",
    "#Computations for the maximum spread of outplanar graphs\n",
    "#Here n='n-1' and l='l-1' for simplicity.\n",
    "#t=lambda\n",
    "reset()\n",
    "var('F,t, l, n, x, y')\n",
    "assume(x>0)\n",
    "F = t^3 -n*t  - 2*l\n",
    "show(F)\n",
    "F1 = F.substitute(l=x*n)\n",
    "\n",
    "#compute c_1 in lambda_1\n",
    "F2 = F1.substitute(t=sqrt(n)+y)\n",
    "#Main term in the expansion\n",
    "F3=limit(F2/n, n= Infinity)\n",
    "show(F3)\n",
    "sol1=solve(F3,y)\n",
    "show(sol1)\n",
    "\n",
    "#compute c_1 in lambda_n\n",
    "F4 = F1.substitute(t=-sqrt(n)+y)\n",
    "#Main term in the expansion\n",
    "F5=limit(F4/n, n= Infinity)\n",
    "sol2=solve(F5,y)\n",
    "show(sol2)\n",
    "\n",
    "c1=sol1[0].rhs()\n",
    "show(c1)"
   ]
  },
  {
   "cell_type": "code",
   "execution_count": 76,
   "metadata": {
    "collapsed": false
   },
   "outputs": [
    {
     "data": {
      "text/html": [
       "<html><script type=\"math/tex; mode=display\">\\newcommand{\\Bold}[1]{\\mathbf{#1}}t^{4} - n t^{2} - 2 \\, l t - 4 \\, l</script></html>"
      ],
      "text/latex": [
       "$$\\newcommand{\\Bold}[1]{\\mathbf{#1}}t^{4} - n t^{2} - 2 \\, l t - 4 \\, l$$"
      ],
      "text/plain": [
       "t^4 - n*t^2 - 2*l*t - 4*l"
      ]
     },
     "execution_count": 76,
     "metadata": {
     },
     "output_type": "execute_result"
    },
    {
     "data": {
      "text/html": [
       "<html><script type=\"math/tex; mode=display\">\\newcommand{\\Bold}[1]{\\mathbf{#1}}3 \\, x^{2} - 4 \\, x + 2 \\, y</script></html>"
      ],
      "text/latex": [
       "$$\\newcommand{\\Bold}[1]{\\mathbf{#1}}3 \\, x^{2} - 4 \\, x + 2 \\, y$$"
      ],
      "text/plain": [
       "3*x^2 - 4*x + 2*y"
      ]
     },
     "execution_count": 76,
     "metadata": {
     },
     "output_type": "execute_result"
    },
    {
     "data": {
      "text/html": [
       "<html><script type=\"math/tex; mode=display\">\\newcommand{\\Bold}[1]{\\mathbf{#1}}\\left[y = -\\frac{3}{2} \\, x^{2} + 2 \\, x\\right]</script></html>"
      ],
      "text/latex": [
       "$$\\newcommand{\\Bold}[1]{\\mathbf{#1}}\\left[y = -\\frac{3}{2} \\, x^{2} + 2 \\, x\\right]$$"
      ],
      "text/plain": [
       "[y == -3/2*x^2 + 2*x]"
      ]
     },
     "execution_count": 76,
     "metadata": {
     },
     "output_type": "execute_result"
    },
    {
     "data": {
      "text/html": [
       "<html><script type=\"math/tex; mode=display\">\\newcommand{\\Bold}[1]{\\mathbf{#1}}3 \\, x^{2} - 4 \\, x + 2 \\, y</script></html>"
      ],
      "text/latex": [
       "$$\\newcommand{\\Bold}[1]{\\mathbf{#1}}3 \\, x^{2} - 4 \\, x + 2 \\, y$$"
      ],
      "text/plain": [
       "3*x^2 - 4*x + 2*y"
      ]
     },
     "execution_count": 76,
     "metadata": {
     },
     "output_type": "execute_result"
    },
    {
     "data": {
      "text/html": [
       "<html><script type=\"math/tex; mode=display\">\\newcommand{\\Bold}[1]{\\mathbf{#1}}\\left[y = -\\frac{3}{2} \\, x^{2} + 2 \\, x\\right]</script></html>"
      ],
      "text/latex": [
       "$$\\newcommand{\\Bold}[1]{\\mathbf{#1}}\\left[y = -\\frac{3}{2} \\, x^{2} + 2 \\, x\\right]$$"
      ],
      "text/plain": [
       "[y == -3/2*x^2 + 2*x]"
      ]
     },
     "execution_count": 76,
     "metadata": {
     },
     "output_type": "execute_result"
    },
    {
     "data": {
      "text/html": [
       "<html><script type=\"math/tex; mode=display\">\\newcommand{\\Bold}[1]{\\mathbf{#1}}-\\frac{3}{2} \\, x^{2} + 2 \\, x</script></html>"
      ],
      "text/latex": [
       "$$\\newcommand{\\Bold}[1]{\\mathbf{#1}}-\\frac{3}{2} \\, x^{2} + 2 \\, x$$"
      ],
      "text/plain": [
       "-3/2*x^2 + 2*x"
      ]
     },
     "execution_count": 76,
     "metadata": {
     },
     "output_type": "execute_result"
    }
   ],
   "source": [
    "F = t^4 -n*t^2  - 2*l*t-4*l\n",
    "show(F)\n",
    "F1 = F.substitute(l=x*n)\n",
    "\n",
    "#compute c_2 in lambda_1\n",
    "F2 = F1.substitute(t=sqrt(n)+c1+y/sqrt(n))\n",
    "#Main term in the expansion\n",
    "F3=limit(F2/n, n= Infinity)\n",
    "show(F3)\n",
    "sol1=solve(F3,y)\n",
    "show(sol1)\n",
    "\n",
    "#compute c_2 in lambda_n\n",
    "F4 = F1.substitute(t=-sqrt(n)+c1-y/sqrt(n))\n",
    "#Main term in the expansion\n",
    "F5=limit(F4/n, n= Infinity)\n",
    "show(F5)\n",
    "sol2=solve(F5,y)\n",
    "show(sol2)\n",
    "\n",
    "c2=sol1[0].rhs()\n",
    "show(c2)\n",
    "\n"
   ]
  },
  {
   "cell_type": "code",
   "execution_count": 77,
   "metadata": {
    "collapsed": false
   },
   "outputs": [
    {
     "data": {
      "text/html": [
       "<html><script type=\"math/tex; mode=display\">\\newcommand{\\Bold}[1]{\\mathbf{#1}}t^{5} - n t^{3} - 2 \\, l t^{2} - 2 \\, {\\left(2 \\, l - 1\\right)} t - 8 \\, l</script></html>"
      ],
      "text/latex": [
       "$$\\newcommand{\\Bold}[1]{\\mathbf{#1}}t^{5} - n t^{3} - 2 \\, l t^{2} - 2 \\, {\\left(2 \\, l - 1\\right)} t - 8 \\, l$$"
      ],
      "text/plain": [
       "t^5 - n*t^3 - 2*l*t^2 - 2*(2*l - 1)*t - 8*l"
      ]
     },
     "execution_count": 77,
     "metadata": {
     },
     "output_type": "execute_result"
    },
    {
     "data": {
      "text/html": [
       "<html><script type=\"math/tex; mode=display\">\\newcommand{\\Bold}[1]{\\mathbf{#1}}-8 \\, x^{3} + 16 \\, x^{2} - 8 \\, x + 2 \\, y</script></html>"
      ],
      "text/latex": [
       "$$\\newcommand{\\Bold}[1]{\\mathbf{#1}}-8 \\, x^{3} + 16 \\, x^{2} - 8 \\, x + 2 \\, y$$"
      ],
      "text/plain": [
       "-8*x^3 + 16*x^2 - 8*x + 2*y"
      ]
     },
     "execution_count": 77,
     "metadata": {
     },
     "output_type": "execute_result"
    },
    {
     "data": {
      "text/html": [
       "<html><script type=\"math/tex; mode=display\">\\newcommand{\\Bold}[1]{\\mathbf{#1}}\\left[y = 4 \\, x^{3} - 8 \\, x^{2} + 4 \\, x\\right]</script></html>"
      ],
      "text/latex": [
       "$$\\newcommand{\\Bold}[1]{\\mathbf{#1}}\\left[y = 4 \\, x^{3} - 8 \\, x^{2} + 4 \\, x\\right]$$"
      ],
      "text/plain": [
       "[y == 4*x^3 - 8*x^2 + 4*x]"
      ]
     },
     "execution_count": 77,
     "metadata": {
     },
     "output_type": "execute_result"
    },
    {
     "data": {
      "text/html": [
       "<html><script type=\"math/tex; mode=display\">\\newcommand{\\Bold}[1]{\\mathbf{#1}}-8 \\, x^{3} + 16 \\, x^{2} - 8 \\, x + 2 \\, y</script></html>"
      ],
      "text/latex": [
       "$$\\newcommand{\\Bold}[1]{\\mathbf{#1}}-8 \\, x^{3} + 16 \\, x^{2} - 8 \\, x + 2 \\, y$$"
      ],
      "text/plain": [
       "-8*x^3 + 16*x^2 - 8*x + 2*y"
      ]
     },
     "execution_count": 77,
     "metadata": {
     },
     "output_type": "execute_result"
    },
    {
     "data": {
      "text/html": [
       "<html><script type=\"math/tex; mode=display\">\\newcommand{\\Bold}[1]{\\mathbf{#1}}\\left[y = 4 \\, x^{3} - 8 \\, x^{2} + 4 \\, x\\right]</script></html>"
      ],
      "text/latex": [
       "$$\\newcommand{\\Bold}[1]{\\mathbf{#1}}\\left[y = 4 \\, x^{3} - 8 \\, x^{2} + 4 \\, x\\right]$$"
      ],
      "text/plain": [
       "[y == 4*x^3 - 8*x^2 + 4*x]"
      ]
     },
     "execution_count": 77,
     "metadata": {
     },
     "output_type": "execute_result"
    },
    {
     "data": {
      "text/html": [
       "<html><script type=\"math/tex; mode=display\">\\newcommand{\\Bold}[1]{\\mathbf{#1}}4 \\, x^{3} - 8 \\, x^{2} + 4 \\, x</script></html>"
      ],
      "text/latex": [
       "$$\\newcommand{\\Bold}[1]{\\mathbf{#1}}4 \\, x^{3} - 8 \\, x^{2} + 4 \\, x$$"
      ],
      "text/plain": [
       "4*x^3 - 8*x^2 + 4*x"
      ]
     },
     "execution_count": 77,
     "metadata": {
     },
     "output_type": "execute_result"
    }
   ],
   "source": [
    "F = t^5 -n*t^3  - 2*l*t^2- (4*l-2)*t -8*l\n",
    "show(F)\n",
    "F1 = F.substitute(l=x*n)\n",
    "\n",
    "#compute c_3 in lambda_1\n",
    "F2 = F1.substitute(t=sqrt(n) + c1 + c2/sqrt(n) +y/n)\n",
    "#Main term in the expansion\n",
    "F3=limit(F2/n, n= Infinity)\n",
    "show(F3)\n",
    "sol1=solve(F3,y)\n",
    "show(sol1)\n",
    "\n",
    "#compute c_3 in lambda_n\n",
    "F4 = F1.substitute(t=-sqrt(n)+ c1 -c2/sqrt(n) +y/n)\n",
    "#Main term in the expansion\n",
    "F5=limit(F4/n, n= Infinity)\n",
    "show(F5)\n",
    "sol2=solve(F5,y)\n",
    "show(sol2)\n",
    "\n",
    "c3=sol1[0].rhs()\n",
    "show(c3)"
   ]
  },
  {
   "cell_type": "code",
   "execution_count": 78,
   "metadata": {
    "collapsed": false
   },
   "outputs": [
    {
     "data": {
      "text/html": [
       "<html><script type=\"math/tex; mode=display\">\\newcommand{\\Bold}[1]{\\mathbf{#1}}t^{6} - n t^{4} - 2 \\, l t^{3} - 2 \\, {\\left(2 \\, l - 1\\right)} t^{2} - 8 \\, {\\left(l - 1\\right)} t - 16 \\, l</script></html>"
      ],
      "text/latex": [
       "$$\\newcommand{\\Bold}[1]{\\mathbf{#1}}t^{6} - n t^{4} - 2 \\, l t^{3} - 2 \\, {\\left(2 \\, l - 1\\right)} t^{2} - 8 \\, {\\left(l - 1\\right)} t - 16 \\, l$$"
      ],
      "text/plain": [
       "t^6 - n*t^4 - 2*l*t^3 - 2*(2*l - 1)*t^2 - 8*(l - 1)*t - 16*l"
      ]
     },
     "execution_count": 78,
     "metadata": {
     },
     "output_type": "execute_result"
    },
    {
     "data": {
      "text/html": [
       "<html><script type=\"math/tex; mode=display\">\\newcommand{\\Bold}[1]{\\mathbf{#1}}\\frac{105}{4} \\, x^{4} - 70 \\, x^{3} + 60 \\, x^{2} - 16 \\, x + 2 \\, y + 2</script></html>"
      ],
      "text/latex": [
       "$$\\newcommand{\\Bold}[1]{\\mathbf{#1}}\\frac{105}{4} \\, x^{4} - 70 \\, x^{3} + 60 \\, x^{2} - 16 \\, x + 2 \\, y + 2$$"
      ],
      "text/plain": [
       "105/4*x^4 - 70*x^3 + 60*x^2 - 16*x + 2*y + 2"
      ]
     },
     "execution_count": 78,
     "metadata": {
     },
     "output_type": "execute_result"
    },
    {
     "data": {
      "text/html": [
       "<html><script type=\"math/tex; mode=display\">\\newcommand{\\Bold}[1]{\\mathbf{#1}}\\frac{105}{4} \\, x^{4} - 70 \\, x^{3} + 60 \\, x^{2} - 16 \\, x + 2 \\, y + 2</script></html>"
      ],
      "text/latex": [
       "$$\\newcommand{\\Bold}[1]{\\mathbf{#1}}\\frac{105}{4} \\, x^{4} - 70 \\, x^{3} + 60 \\, x^{2} - 16 \\, x + 2 \\, y + 2$$"
      ],
      "text/plain": [
       "105/4*x^4 - 70*x^3 + 60*x^2 - 16*x + 2*y + 2"
      ]
     },
     "execution_count": 78,
     "metadata": {
     },
     "output_type": "execute_result"
    },
    {
     "data": {
      "text/html": [
       "<html><script type=\"math/tex; mode=display\">\\newcommand{\\Bold}[1]{\\mathbf{#1}}\\left[y = -\\frac{105}{8} \\, x^{4} + 35 \\, x^{3} - 30 \\, x^{2} + 8 \\, x - 1\\right]</script></html>"
      ],
      "text/latex": [
       "$$\\newcommand{\\Bold}[1]{\\mathbf{#1}}\\left[y = -\\frac{105}{8} \\, x^{4} + 35 \\, x^{3} - 30 \\, x^{2} + 8 \\, x - 1\\right]$$"
      ],
      "text/plain": [
       "[y == -105/8*x^4 + 35*x^3 - 30*x^2 + 8*x - 1]"
      ]
     },
     "execution_count": 78,
     "metadata": {
     },
     "output_type": "execute_result"
    },
    {
     "data": {
      "text/html": [
       "<html><script type=\"math/tex; mode=display\">\\newcommand{\\Bold}[1]{\\mathbf{#1}}-\\frac{105}{8} \\, x^{4} + 35 \\, x^{3} - 30 \\, x^{2} + 8 \\, x - 1</script></html>"
      ],
      "text/latex": [
       "$$\\newcommand{\\Bold}[1]{\\mathbf{#1}}-\\frac{105}{8} \\, x^{4} + 35 \\, x^{3} - 30 \\, x^{2} + 8 \\, x - 1$$"
      ],
      "text/plain": [
       "-105/8*x^4 + 35*x^3 - 30*x^2 + 8*x - 1"
      ]
     },
     "execution_count": 78,
     "metadata": {
     },
     "output_type": "execute_result"
    }
   ],
   "source": [
    "F = t^6 -n*t^4  - 2*l*t^3- (4*l-2)*t^2 -(8*l-8)*t -16*l\n",
    "show(F)\n",
    "F1 = F.substitute(l=x*n)\n",
    "\n",
    "#compute c_4 in lambda_1\n",
    "F2 = F1.substitute(t=sqrt(n) +c1+ c2/sqrt(n) + c3/n + y/n^(3/2))\n",
    "#Main term in the expansion\n",
    "F3=limit(F2/n, n= Infinity)\n",
    "show(F3)\n",
    "sol1=solve(F3,y)\n",
    "\n",
    "#compute c_4 in lambda_n\n",
    "F4 = F1.substitute(t=-sqrt(n)+c1-c2/sqrt(n) + c3/n - y/n^(3/2))\n",
    "#Main term in the expansion\n",
    "F5=limit(F4/n, n= Infinity)\n",
    "show(F5)\n",
    "sol2=solve(F5,y)\n",
    "show(sol2)\n",
    "\n",
    "c4=sol1[0].rhs()\n",
    "show(c4)\n"
   ]
  },
  {
   "cell_type": "code",
   "execution_count": 79,
   "metadata": {
    "collapsed": false
   },
   "outputs": [
    {
     "data": {
      "text/html": [
       "<html><script type=\"math/tex; mode=display\">\\newcommand{\\Bold}[1]{\\mathbf{#1}}t^{7} - n t^{5} - 2 \\, l t^{4} - 2 \\, {\\left(2 \\, l - 1\\right)} t^{3} - 8 \\, {\\left(l - 1\\right)} t^{2} - 2 \\, {\\left(8 \\, l - 11\\right)} t - 32 \\, l</script></html>"
      ],
      "text/latex": [
       "$$\\newcommand{\\Bold}[1]{\\mathbf{#1}}t^{7} - n t^{5} - 2 \\, l t^{4} - 2 \\, {\\left(2 \\, l - 1\\right)} t^{3} - 8 \\, {\\left(l - 1\\right)} t^{2} - 2 \\, {\\left(8 \\, l - 11\\right)} t - 32 \\, l$$"
      ],
      "text/plain": [
       "t^7 - n*t^5 - 2*l*t^4 - 2*(2*l - 1)*t^3 - 8*(l - 1)*t^2 - 2*(8*l - 11)*t - 32*l"
      ]
     },
     "execution_count": 79,
     "metadata": {
     },
     "output_type": "execute_result"
    },
    {
     "data": {
      "text/html": [
       "<html><script type=\"math/tex; mode=display\">\\newcommand{\\Bold}[1]{\\mathbf{#1}}-96 \\, x^{5} + 320 \\, x^{4} - 384 \\, x^{3} + 192 \\, x^{2} - 40 \\, x + 2 \\, y + 8</script></html>"
      ],
      "text/latex": [
       "$$\\newcommand{\\Bold}[1]{\\mathbf{#1}}-96 \\, x^{5} + 320 \\, x^{4} - 384 \\, x^{3} + 192 \\, x^{2} - 40 \\, x + 2 \\, y + 8$$"
      ],
      "text/plain": [
       "-96*x^5 + 320*x^4 - 384*x^3 + 192*x^2 - 40*x + 2*y + 8"
      ]
     },
     "execution_count": 79,
     "metadata": {
     },
     "output_type": "execute_result"
    },
    {
     "data": {
      "text/html": [
       "<html><script type=\"math/tex; mode=display\">\\newcommand{\\Bold}[1]{\\mathbf{#1}}\\left[y = 48 \\, x^{5} - 160 \\, x^{4} + 192 \\, x^{3} - 96 \\, x^{2} + 20 \\, x - 4\\right]</script></html>"
      ],
      "text/latex": [
       "$$\\newcommand{\\Bold}[1]{\\mathbf{#1}}\\left[y = 48 \\, x^{5} - 160 \\, x^{4} + 192 \\, x^{3} - 96 \\, x^{2} + 20 \\, x - 4\\right]$$"
      ],
      "text/plain": [
       "[y == 48*x^5 - 160*x^4 + 192*x^3 - 96*x^2 + 20*x - 4]"
      ]
     },
     "execution_count": 79,
     "metadata": {
     },
     "output_type": "execute_result"
    },
    {
     "data": {
      "text/html": [
       "<html><script type=\"math/tex; mode=display\">\\newcommand{\\Bold}[1]{\\mathbf{#1}}-96 \\, x^{5} + 320 \\, x^{4} - 384 \\, x^{3} + 192 \\, x^{2} - 40 \\, x + 2 \\, y + 8</script></html>"
      ],
      "text/latex": [
       "$$\\newcommand{\\Bold}[1]{\\mathbf{#1}}-96 \\, x^{5} + 320 \\, x^{4} - 384 \\, x^{3} + 192 \\, x^{2} - 40 \\, x + 2 \\, y + 8$$"
      ],
      "text/plain": [
       "-96*x^5 + 320*x^4 - 384*x^3 + 192*x^2 - 40*x + 2*y + 8"
      ]
     },
     "execution_count": 79,
     "metadata": {
     },
     "output_type": "execute_result"
    },
    {
     "data": {
      "text/html": [
       "<html><script type=\"math/tex; mode=display\">\\newcommand{\\Bold}[1]{\\mathbf{#1}}\\left[y = 48 \\, x^{5} - 160 \\, x^{4} + 192 \\, x^{3} - 96 \\, x^{2} + 20 \\, x - 4\\right]</script></html>"
      ],
      "text/latex": [
       "$$\\newcommand{\\Bold}[1]{\\mathbf{#1}}\\left[y = 48 \\, x^{5} - 160 \\, x^{4} + 192 \\, x^{3} - 96 \\, x^{2} + 20 \\, x - 4\\right]$$"
      ],
      "text/plain": [
       "[y == 48*x^5 - 160*x^4 + 192*x^3 - 96*x^2 + 20*x - 4]"
      ]
     },
     "execution_count": 79,
     "metadata": {
     },
     "output_type": "execute_result"
    },
    {
     "data": {
      "text/html": [
       "<html><script type=\"math/tex; mode=display\">\\newcommand{\\Bold}[1]{\\mathbf{#1}}48 \\, x^{5} - 160 \\, x^{4} + 192 \\, x^{3} - 96 \\, x^{2} + 20 \\, x - 4</script></html>"
      ],
      "text/latex": [
       "$$\\newcommand{\\Bold}[1]{\\mathbf{#1}}48 \\, x^{5} - 160 \\, x^{4} + 192 \\, x^{3} - 96 \\, x^{2} + 20 \\, x - 4$$"
      ],
      "text/plain": [
       "48*x^5 - 160*x^4 + 192*x^3 - 96*x^2 + 20*x - 4"
      ]
     },
     "execution_count": 79,
     "metadata": {
     },
     "output_type": "execute_result"
    }
   ],
   "source": [
    "F = t^7 -n*t^5  - 2*l*t^4- (4*l-2)*t^3 -(8*l-8)*t^2 -(16*l-22)*t-32*l\n",
    "show(F)\n",
    "F1 = F.substitute(l=x*n)\n",
    "\n",
    "#compute c_5 in lambda_1\n",
    "F2 = F1.substitute(t=sqrt(n) + c1 + c2/sqrt(n) + c3/n + c4/n^(3/2) + y/n^2)\n",
    "#Main term in the expansion\n",
    "F3=limit(F2/n, n= Infinity)\n",
    "show(F3)\n",
    "sol1=solve(F3,y)\n",
    "show(sol1)\n",
    "\n",
    "#compute c_5 in lambda_n\n",
    "F4 = F1.substitute(t=-sqrt(n)+ c1 - c2/sqrt(n) + c3/n - c4/n^(3/2) + y/n^2)\n",
    "#Main term in the expansion\n",
    "F5=limit(F4/n, n=Infinity)\n",
    "show(F5)\n",
    "sol2=solve(F5,y)\n",
    "show(sol2)\n",
    "\n",
    "c5=sol1[0].rhs()\n",
    "show(c5)"
   ]
  },
  {
   "cell_type": "code",
   "execution_count": 80,
   "metadata": {
    "collapsed": false
   },
   "outputs": [
    {
     "data": {
      "text/html": [
       "<html><script type=\"math/tex; mode=display\">\\newcommand{\\Bold}[1]{\\mathbf{#1}}t^{8} - n t^{6} - 2 \\, l t^{5} - 2 \\, {\\left(2 \\, l - 1\\right)} t^{4} - 8 \\, {\\left(l - 1\\right)} t^{3} - 2 \\, {\\left(8 \\, l - 11\\right)} t^{2} - 8 \\, {\\left(4 \\, l - 7\\right)} t - 64 \\, l</script></html>"
      ],
      "text/latex": [
       "$$\\newcommand{\\Bold}[1]{\\mathbf{#1}}t^{8} - n t^{6} - 2 \\, l t^{5} - 2 \\, {\\left(2 \\, l - 1\\right)} t^{4} - 8 \\, {\\left(l - 1\\right)} t^{3} - 2 \\, {\\left(8 \\, l - 11\\right)} t^{2} - 8 \\, {\\left(4 \\, l - 7\\right)} t - 64 \\, l$$"
      ],
      "text/plain": [
       "t^8 - n*t^6 - 2*l*t^5 - 2*(2*l - 1)*t^4 - 8*(l - 1)*t^3 - 2*(8*l - 11)*t^2 - 8*(4*l - 7)*t - 64*l"
      ]
     },
     "execution_count": 80,
     "metadata": {
     },
     "output_type": "execute_result"
    },
    {
     "data": {
      "text/html": [
       "<html><script type=\"math/tex; mode=display\">\\newcommand{\\Bold}[1]{\\mathbf{#1}}\\frac{3003}{8} \\, x^{6} - \\frac{3003}{2} \\, x^{5} + 2310 \\, x^{4} - 1680 \\, x^{3} + 595 \\, x^{2} - 124 \\, x + 2 \\, y + 22</script></html>"
      ],
      "text/latex": [
       "$$\\newcommand{\\Bold}[1]{\\mathbf{#1}}\\frac{3003}{8} \\, x^{6} - \\frac{3003}{2} \\, x^{5} + 2310 \\, x^{4} - 1680 \\, x^{3} + 595 \\, x^{2} - 124 \\, x + 2 \\, y + 22$$"
      ],
      "text/plain": [
       "3003/8*x^6 - 3003/2*x^5 + 2310*x^4 - 1680*x^3 + 595*x^2 - 124*x + 2*y + 22"
      ]
     },
     "execution_count": 80,
     "metadata": {
     },
     "output_type": "execute_result"
    },
    {
     "data": {
      "text/html": [
       "<html><script type=\"math/tex; mode=display\">\\newcommand{\\Bold}[1]{\\mathbf{#1}}\\left[y = -\\frac{3003}{16} \\, x^{6} + \\frac{3003}{4} \\, x^{5} - 1155 \\, x^{4} + 840 \\, x^{3} - \\frac{595}{2} \\, x^{2} + 62 \\, x - 11\\right]</script></html>"
      ],
      "text/latex": [
       "$$\\newcommand{\\Bold}[1]{\\mathbf{#1}}\\left[y = -\\frac{3003}{16} \\, x^{6} + \\frac{3003}{4} \\, x^{5} - 1155 \\, x^{4} + 840 \\, x^{3} - \\frac{595}{2} \\, x^{2} + 62 \\, x - 11\\right]$$"
      ],
      "text/plain": [
       "[y == -3003/16*x^6 + 3003/4*x^5 - 1155*x^4 + 840*x^3 - 595/2*x^2 + 62*x - 11]"
      ]
     },
     "execution_count": 80,
     "metadata": {
     },
     "output_type": "execute_result"
    },
    {
     "data": {
      "text/html": [
       "<html><script type=\"math/tex; mode=display\">\\newcommand{\\Bold}[1]{\\mathbf{#1}}\\frac{3003}{8} \\, x^{6} - \\frac{3003}{2} \\, x^{5} + 2310 \\, x^{4} - 1680 \\, x^{3} + 595 \\, x^{2} - 124 \\, x + 2 \\, y + 22</script></html>"
      ],
      "text/latex": [
       "$$\\newcommand{\\Bold}[1]{\\mathbf{#1}}\\frac{3003}{8} \\, x^{6} - \\frac{3003}{2} \\, x^{5} + 2310 \\, x^{4} - 1680 \\, x^{3} + 595 \\, x^{2} - 124 \\, x + 2 \\, y + 22$$"
      ],
      "text/plain": [
       "3003/8*x^6 - 3003/2*x^5 + 2310*x^4 - 1680*x^3 + 595*x^2 - 124*x + 2*y + 22"
      ]
     },
     "execution_count": 80,
     "metadata": {
     },
     "output_type": "execute_result"
    },
    {
     "data": {
      "text/html": [
       "<html><script type=\"math/tex; mode=display\">\\newcommand{\\Bold}[1]{\\mathbf{#1}}\\left[y = -\\frac{3003}{16} \\, x^{6} + \\frac{3003}{4} \\, x^{5} - 1155 \\, x^{4} + 840 \\, x^{3} - \\frac{595}{2} \\, x^{2} + 62 \\, x - 11\\right]</script></html>"
      ],
      "text/latex": [
       "$$\\newcommand{\\Bold}[1]{\\mathbf{#1}}\\left[y = -\\frac{3003}{16} \\, x^{6} + \\frac{3003}{4} \\, x^{5} - 1155 \\, x^{4} + 840 \\, x^{3} - \\frac{595}{2} \\, x^{2} + 62 \\, x - 11\\right]$$"
      ],
      "text/plain": [
       "[y == -3003/16*x^6 + 3003/4*x^5 - 1155*x^4 + 840*x^3 - 595/2*x^2 + 62*x - 11]"
      ]
     },
     "execution_count": 80,
     "metadata": {
     },
     "output_type": "execute_result"
    },
    {
     "data": {
      "text/html": [
       "<html><script type=\"math/tex; mode=display\">\\newcommand{\\Bold}[1]{\\mathbf{#1}}-\\frac{3003}{16} \\, x^{6} + \\frac{3003}{4} \\, x^{5} - 1155 \\, x^{4} + 840 \\, x^{3} - \\frac{595}{2} \\, x^{2} + 62 \\, x - 11</script></html>"
      ],
      "text/latex": [
       "$$\\newcommand{\\Bold}[1]{\\mathbf{#1}}-\\frac{3003}{16} \\, x^{6} + \\frac{3003}{4} \\, x^{5} - 1155 \\, x^{4} + 840 \\, x^{3} - \\frac{595}{2} \\, x^{2} + 62 \\, x - 11$$"
      ],
      "text/plain": [
       "-3003/16*x^6 + 3003/4*x^5 - 1155*x^4 + 840*x^3 - 595/2*x^2 + 62*x - 11"
      ]
     },
     "execution_count": 80,
     "metadata": {
     },
     "output_type": "execute_result"
    }
   ],
   "source": [
    "F = t^8 -n*t^6  - 2*l*t^5- (4*l-2)*t^4 -(8*l-8)*t^3 -(16*l-22)*t^2-(32*l-56)*t -64*l\n",
    "show(F)\n",
    "F1 = F.substitute(l=x*n)\n",
    "\n",
    "#compute c_6 in lambda_1\n",
    "F2 = F1.substitute(t=sqrt(n)+ c1 + c2/sqrt(n) + c3/n + c4/n^(3/2) + c5/n^2 + y/n^(5/2) )\n",
    "#Main term in the expansion\n",
    "F3=limit(F2/n, n= Infinity)\n",
    "show(F3)\n",
    "sol1=solve(F3,y)\n",
    "show(sol1)\n",
    "\n",
    "#compute c_6 in lambda_n\n",
    "F4 = F1.substitute(t=-sqrt(n)+ c1 - c2/sqrt(n) + c3/n - c4/n^(3/2) + c5/n^2 - y/n^(5/2))\n",
    "#Main term in the expansion\n",
    "F5=limit(F4/n, n=Infinity)\n",
    "show(F5)\n",
    "sol2=solve(F5,y)\n",
    "show(sol2)\n",
    "\n",
    "c6=sol1[0].rhs()\n",
    "show(c6)\n"
   ]
  },
  {
   "cell_type": "code",
   "execution_count": 0,
   "metadata": {
    "collapsed": false
   },
   "outputs": [
   ],
   "source": [
   ]
  },
  {
   "cell_type": "code",
   "execution_count": 0,
   "metadata": {
    "collapsed": false
   },
   "outputs": [
   ],
   "source": [
   ]
  },
  {
   "cell_type": "code",
   "execution_count": 0,
   "metadata": {
    "collapsed": false
   },
   "outputs": [
   ],
   "source": [
   ]
  },
  {
   "cell_type": "code",
   "execution_count": 0,
   "metadata": {
    "collapsed": false
   },
   "outputs": [
   ],
   "source": [
   ]
  },
  {
   "cell_type": "code",
   "execution_count": 0,
   "metadata": {
    "collapsed": false
   },
   "outputs": [
   ],
   "source": [
   ]
  }
 ],
 "metadata": {
  "kernelspec": {
   "display_name": "SageMath 9.6",
   "language": "sagemath",
   "metadata": {
    "cocalc": {
     "description": "Open-source mathematical software system",
     "priority": 1,
     "url": "https://www.sagemath.org/"
    }
   },
   "name": "sage-9.6",
   "resource_dir": "/ext/jupyter/kernels/sage-9.6"
  },
  "language_info": {
   "codemirror_mode": {
    "name": "ipython",
    "version": 3
   },
   "file_extension": ".py",
   "mimetype": "text/x-python",
   "name": "python",
   "nbconvert_exporter": "python",
   "pygments_lexer": "ipython3",
   "version": "3.10.4"
  }
 },
 "nbformat": 4,
 "nbformat_minor": 4
}